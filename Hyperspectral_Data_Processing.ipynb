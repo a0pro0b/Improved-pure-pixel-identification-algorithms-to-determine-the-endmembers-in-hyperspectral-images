{
  "nbformat": 4,
  "nbformat_minor": 0,
  "metadata": {
    "colab": {
      "name": "Copy of hyperspectral_Data_Processing.ipynb",
      "provenance": [],
      "collapsed_sections": [],
      "include_colab_link": true
    },
    "kernelspec": {
      "name": "python3",
      "display_name": "Python 3"
    }
  },
  "cells": [
    {
      "cell_type": "markdown",
      "metadata": {
        "id": "view-in-github",
        "colab_type": "text"
      },
      "source": [
        "<a href=\"https://colab.research.google.com/github/a0pro0b/Improved-pure-pixel-identification-algorithms-to-determine-the-endmembers-in-hyperspectral-images/blob/main/Hyperspectral_Data_Processing.ipynb\" target=\"_parent\"><img src=\"https://colab.research.google.com/assets/colab-badge.svg\" alt=\"Open In Colab\"/></a>"
      ]
    },
    {
      "cell_type": "code",
      "metadata": {
        "id": "MenYiEoS_ERW",
        "outputId": "d0cbf8f2-e4f2-402c-fd26-c716d2be4589",
        "colab": {
          "base_uri": "https://localhost:8080/"
        }
      },
      "source": [
        "from google.colab import drive\n",
        "drive.mount('/content/drive')"
      ],
      "execution_count": null,
      "outputs": [
        {
          "output_type": "stream",
          "name": "stdout",
          "text": [
            "Mounted at /content/drive\n"
          ]
        }
      ]
    },
    {
      "cell_type": "code",
      "metadata": {
        "id": "MnX8uj7PFfzL",
        "outputId": "9038339e-5529-4970-9b45-cd1b1f24d709",
        "colab": {
          "base_uri": "https://localhost:8080/"
        }
      },
      "source": [
        "!pip install scipy"
      ],
      "execution_count": null,
      "outputs": [
        {
          "output_type": "stream",
          "name": "stdout",
          "text": [
            "Requirement already satisfied: scipy in /usr/local/lib/python3.7/dist-packages (1.4.1)\n",
            "Requirement already satisfied: numpy>=1.13.3 in /usr/local/lib/python3.7/dist-packages (from scipy) (1.21.5)\n"
          ]
        }
      ]
    },
    {
      "cell_type": "code",
      "metadata": {
        "id": "ok5fuuLzGkFp",
        "outputId": "57e157b7-5954-4ba2-ff7f-05eef82e2ba3",
        "colab": {
          "base_uri": "https://localhost:8080/"
        }
      },
      "source": [
        "!pip install spectral"
      ],
      "execution_count": null,
      "outputs": [
        {
          "output_type": "stream",
          "name": "stdout",
          "text": [
            "Collecting spectral\n",
            "  Downloading spectral-0.22.4-py3-none-any.whl (212 kB)\n",
            "\u001b[?25l\r\u001b[K     |█▌                              | 10 kB 20.9 MB/s eta 0:00:01\r\u001b[K     |███                             | 20 kB 19.6 MB/s eta 0:00:01\r\u001b[K     |████▋                           | 30 kB 11.2 MB/s eta 0:00:01\r\u001b[K     |██████▏                         | 40 kB 9.7 MB/s eta 0:00:01\r\u001b[K     |███████▊                        | 51 kB 4.8 MB/s eta 0:00:01\r\u001b[K     |█████████▎                      | 61 kB 5.7 MB/s eta 0:00:01\r\u001b[K     |██████████▉                     | 71 kB 5.6 MB/s eta 0:00:01\r\u001b[K     |████████████▍                   | 81 kB 5.5 MB/s eta 0:00:01\r\u001b[K     |██████████████                  | 92 kB 6.1 MB/s eta 0:00:01\r\u001b[K     |███████████████▍                | 102 kB 5.2 MB/s eta 0:00:01\r\u001b[K     |█████████████████               | 112 kB 5.2 MB/s eta 0:00:01\r\u001b[K     |██████████████████▌             | 122 kB 5.2 MB/s eta 0:00:01\r\u001b[K     |████████████████████            | 133 kB 5.2 MB/s eta 0:00:01\r\u001b[K     |█████████████████████▋          | 143 kB 5.2 MB/s eta 0:00:01\r\u001b[K     |███████████████████████▏        | 153 kB 5.2 MB/s eta 0:00:01\r\u001b[K     |████████████████████████▊       | 163 kB 5.2 MB/s eta 0:00:01\r\u001b[K     |██████████████████████████▎     | 174 kB 5.2 MB/s eta 0:00:01\r\u001b[K     |███████████████████████████▉    | 184 kB 5.2 MB/s eta 0:00:01\r\u001b[K     |█████████████████████████████▎  | 194 kB 5.2 MB/s eta 0:00:01\r\u001b[K     |██████████████████████████████▉ | 204 kB 5.2 MB/s eta 0:00:01\r\u001b[K     |████████████████████████████████| 212 kB 5.2 MB/s \n",
            "\u001b[?25hRequirement already satisfied: numpy in /usr/local/lib/python3.7/dist-packages (from spectral) (1.21.5)\n",
            "Installing collected packages: spectral\n",
            "Successfully installed spectral-0.22.4\n"
          ]
        }
      ]
    },
    {
      "cell_type": "code",
      "metadata": {
        "id": "JuSG4do1-YxU"
      },
      "source": [
        "import numpy as np\n",
        "import matplotlib as mp\n",
        "import spectral.io.envi as envi\n",
        "import spectral.io.aviris as aviris"
      ],
      "execution_count": null,
      "outputs": []
    },
    {
      "cell_type": "code",
      "metadata": {
        "id": "DmTrdEWc_jf-"
      },
      "source": [
        "img = aviris.open('/content/drive/MyDrive/Projects/RFL/f970619t01p02_r02_sc01.a.rfl','/content/drive/MyDrive/Projects/HSI Dataset/f970619t01p02_r02.a.spc')\n"
      ],
      "execution_count": null,
      "outputs": []
    },
    {
      "cell_type": "code",
      "metadata": {
        "id": "kwctRZhnIKFy"
      },
      "source": [
        "arr = img.load()"
      ],
      "execution_count": null,
      "outputs": []
    },
    {
      "cell_type": "code",
      "metadata": {
        "id": "eOdKMTG_IeG4",
        "outputId": "b474ae21-5cae-4b7a-f792-57befdb6f6b4",
        "colab": {
          "base_uri": "https://localhost:8080/"
        }
      },
      "source": [
        "arr.__class__"
      ],
      "execution_count": null,
      "outputs": [
        {
          "output_type": "execute_result",
          "data": {
            "text/plain": [
              "spectral.image.ImageArray"
            ]
          },
          "metadata": {},
          "execution_count": 7
        }
      ]
    },
    {
      "cell_type": "code",
      "metadata": {
        "id": "prmUAg_oIkQa",
        "outputId": "01593d81-a6a0-411d-de8a-a0499c99ee05",
        "colab": {
          "base_uri": "https://localhost:8080/"
        }
      },
      "source": [
        "print(arr.info())"
      ],
      "execution_count": null,
      "outputs": [
        {
          "output_type": "stream",
          "name": "stdout",
          "text": [
            "\t# Rows:            512\n",
            "\t# Samples:         614\n",
            "\t# Bands:           224\n",
            "\tData format:   float32\n"
          ]
        }
      ]
    },
    {
      "cell_type": "code",
      "metadata": {
        "id": "arcxCJxvInXl",
        "outputId": "597f3fe5-da6b-42b4-ed69-32aa41a68144",
        "colab": {
          "base_uri": "https://localhost:8080/"
        }
      },
      "source": [
        "arr.shape"
      ],
      "execution_count": null,
      "outputs": [
        {
          "output_type": "execute_result",
          "data": {
            "text/plain": [
              "(512, 614, 224)"
            ]
          },
          "metadata": {},
          "execution_count": 9
        }
      ]
    },
    {
      "cell_type": "code",
      "metadata": {
        "id": "2-jjUO7QIx1G"
      },
      "source": [
        "import spectral.graphics.spypylab\n",
        "\n"
      ],
      "execution_count": null,
      "outputs": []
    },
    {
      "cell_type": "code",
      "metadata": {
        "id": "6G0huQzIl2ES",
        "outputId": "eda2d04d-e8f9-4896-ca0a-1fa608a45c4c",
        "colab": {
          "base_uri": "https://localhost:8080/"
        }
      },
      "source": [
        "!pip install ipython\n"
      ],
      "execution_count": null,
      "outputs": [
        {
          "output_type": "stream",
          "name": "stdout",
          "text": [
            "Requirement already satisfied: ipython in /usr/local/lib/python3.7/dist-packages (5.5.0)\n",
            "Requirement already satisfied: pickleshare in /usr/local/lib/python3.7/dist-packages (from ipython) (0.7.5)\n",
            "Requirement already satisfied: simplegeneric>0.8 in /usr/local/lib/python3.7/dist-packages (from ipython) (0.8.1)\n",
            "Requirement already satisfied: decorator in /usr/local/lib/python3.7/dist-packages (from ipython) (4.4.2)\n",
            "Requirement already satisfied: setuptools>=18.5 in /usr/local/lib/python3.7/dist-packages (from ipython) (57.4.0)\n",
            "Requirement already satisfied: prompt-toolkit<2.0.0,>=1.0.4 in /usr/local/lib/python3.7/dist-packages (from ipython) (1.0.18)\n",
            "Requirement already satisfied: traitlets>=4.2 in /usr/local/lib/python3.7/dist-packages (from ipython) (5.1.1)\n",
            "Requirement already satisfied: pygments in /usr/local/lib/python3.7/dist-packages (from ipython) (2.6.1)\n",
            "Requirement already satisfied: pexpect in /usr/local/lib/python3.7/dist-packages (from ipython) (4.8.0)\n",
            "Requirement already satisfied: six>=1.9.0 in /usr/local/lib/python3.7/dist-packages (from prompt-toolkit<2.0.0,>=1.0.4->ipython) (1.15.0)\n",
            "Requirement already satisfied: wcwidth in /usr/local/lib/python3.7/dist-packages (from prompt-toolkit<2.0.0,>=1.0.4->ipython) (0.2.5)\n",
            "Requirement already satisfied: ptyprocess>=0.5 in /usr/local/lib/python3.7/dist-packages (from pexpect->ipython) (0.7.0)\n"
          ]
        }
      ]
    },
    {
      "cell_type": "code",
      "metadata": {
        "id": "vBXJG2yenf7P"
      },
      "source": [
        "from spectral import *"
      ],
      "execution_count": null,
      "outputs": []
    },
    {
      "cell_type": "code",
      "metadata": {
        "id": "SYwwqNMDl5rY",
        "outputId": "00d159a7-8b57-4e4f-b37a-c00803c2ef8f",
        "colab": {
          "base_uri": "https://localhost:8080/",
          "height": 269
        }
      },
      "source": [
        "view = imshow(img, (100,101,102))"
      ],
      "execution_count": null,
      "outputs": [
        {
          "output_type": "display_data",
          "data": {
            "text/plain": [
              "<Figure size 432x288 with 1 Axes>"
            ],
            "image/png": "[encoded data removed]"
          },
          "metadata": {
            "needs_background": "light"
          }
        }
      ]
    },
    {
      "cell_type": "code",
      "metadata": {
        "id": "RPBaRvrtmxRP",
        "outputId": "e56b4a5c-bdc2-480a-e012-471a21ab016a",
        "colab": {
          "base_uri": "https://localhost:8080/"
        }
      },
      "source": [
        "print(view)"
      ],
      "execution_count": null,
      "outputs": [
        {
          "output_type": "stream",
          "name": "stdout",
          "text": [
            "ImageView object:\n",
            "  Display bands       :  (100, 101, 102)\n",
            "  Interpolation       :  <default>\n",
            "  RGB data limits     :\n",
            "    R: [0.0927, 0.649]\n",
            "    G: [0.0921, 0.6522]\n",
            "    B: [0.0917, 0.649]\n",
            "\n"
          ]
        }
      ]
    },
    {
      "cell_type": "code",
      "metadata": {
        "id": "EWDuSbzw6-wc",
        "outputId": "c451e147-7315-4065-e8e2-effa231c575e",
        "colab": {
          "base_uri": "https://localhost:8080/"
        }
      },
      "source": [
        "arr"
      ],
      "execution_count": null,
      "outputs": [
        {
          "output_type": "execute_result",
          "data": {
            "text/plain": [
              "ImageArray([[[ 0.      0.      1.0367 ...  0.188   0.2414  0.2516]\n",
              "             [ 0.      0.      1.0367 ...  0.1335  0.1662  0.1324]\n",
              "             [ 0.      0.      1.0369 ...  0.1854  0.1793  0.1632]\n",
              "             ...\n",
              "             [ 0.      0.      0.9876 ...  0.1175  0.0937  0.0411]\n",
              "             [ 0.      0.      1.     ...  0.1221  0.1649  0.1714]\n",
              "             [ 0.      0.      0.9874 ...  0.1404  0.13    0.1503]]\n",
              "\n",
              "            [[ 0.      0.      0.0086 ...  0.2152  0.1631  0.1936]\n",
              "             [ 0.      0.      0.0086 ...  0.2862  0.219   0.2757]\n",
              "             [ 0.      0.      0.0086 ...  0.1325  0.1649  0.1101]\n",
              "             ...\n",
              "             [ 0.      0.     -0.005  ...  0.0931  0.0777  0.0428]\n",
              "             [ 0.      0.     -0.005  ...  0.0684  0.0597  0.0963]\n",
              "             [ 0.      0.     -0.005  ...  0.1942  0.1465  0.1762]]\n",
              "\n",
              "            [[ 0.      0.     -0.005  ...  0.1634  0.1639  0.1094]\n",
              "             [ 0.      0.     -0.005  ...  0.1828  0.1984  0.2242]\n",
              "             [ 0.      0.     -0.005  ...  0.2186  0.2395  0.2285]\n",
              "             ...\n",
              "             [ 0.      0.     -0.005  ...  0.1187  0.1669  0.1479]\n",
              "             [ 0.      0.     -0.005  ...  0.0445  0.0444  0.1241]\n",
              "             [ 0.      0.     -0.005  ...  0.1469  0.1271  0.1186]]\n",
              "\n",
              "            ...\n",
              "\n",
              "            [[ 0.      0.     -0.005  ...  0.1635  0.1406  0.1665]\n",
              "             [ 0.      0.     -0.005  ...  0.121   0.1401  0.0971]\n",
              "             [ 0.      0.     -0.005  ...  0.2062  0.1237  0.1669]\n",
              "             ...\n",
              "             [ 0.      0.     -0.005  ...  0.2347  0.2273  0.2459]\n",
              "             [ 0.      0.     -0.005  ...  0.2562  0.1961  0.1892]\n",
              "             [ 0.      0.     -0.005  ...  0.1538  0.1699  0.1832]]\n",
              "\n",
              "            [[ 0.      0.     -0.005  ...  0.1396  0.1596  0.1245]\n",
              "             [ 0.      0.     -0.005  ...  0.1396  0.1712  0.1245]\n",
              "             [ 0.      0.     -0.005  ...  0.163   0.1573  0.1747]\n",
              "             ...\n",
              "             [ 0.      0.     -0.005  ...  0.1367  0.1591  0.1373]\n",
              "             [ 0.      0.     -0.005  ...  0.1086  0.1465  0.0896]\n",
              "             [ 0.      0.     -0.005  ...  0.1489  0.1394  0.1134]]\n",
              "\n",
              "            [[ 0.      0.     -0.005  ...  0.2071  0.1648  0.1416]\n",
              "             [ 0.      0.     -0.005  ...  0.1234  0.1196  0.1427]\n",
              "             [ 0.      0.     -0.005  ...  0.1422  0.1389  0.1709]\n",
              "             ...\n",
              "             [ 0.      0.     -0.005  ...  0.1052  0.1165  0.1056]\n",
              "             [ 0.      0.     -0.005  ...  0.1561  0.153   0.1569]\n",
              "             [ 0.      0.     -0.005  ...  0.1318  0.1281  0.1049]]], dtype=float32)"
            ]
          },
          "metadata": {},
          "execution_count": 15
        }
      ]
    },
    {
      "cell_type": "code",
      "metadata": {
        "id": "i_74Bvwb8il2",
        "outputId": "020311fa-e54a-4832-bf52-eb810cbbe9eb",
        "colab": {
          "base_uri": "https://localhost:8080/"
        }
      },
      "source": [
        "arr[10,10,100]"
      ],
      "execution_count": null,
      "outputs": [
        {
          "output_type": "execute_result",
          "data": {
            "text/plain": [
              "0.3271"
            ]
          },
          "metadata": {},
          "execution_count": 16
        }
      ]
    },
    {
      "cell_type": "code",
      "metadata": {
        "id": "qjk9JGgv_BVA",
        "outputId": "08c6d40a-78b6-4223-ef65-661f7dd6bff7",
        "colab": {
          "base_uri": "https://localhost:8080/"
        }
      },
      "source": [
        "arr[10,10,100:150]"
      ],
      "execution_count": null,
      "outputs": [
        {
          "output_type": "execute_result",
          "data": {
            "text/plain": [
              "ImageArray([[[ 0.3271  0.3282  0.3265  0.3229  0.3256  0.3228  0.3375\n",
              "               0.      0.      0.      0.      0.6724 -0.005   0.2884\n",
              "               0.3006  0.2955  0.3011  0.3056  0.3082  0.3111  0.3199\n",
              "               0.3215  0.3225  0.3262  0.3269  0.3308  0.3309  0.3338\n",
              "               0.3331  0.3349  0.3368  0.3367  0.34    0.3395  0.3398\n",
              "               0.3437  0.3424  0.3425  0.3437  0.3425  0.345   0.3438\n",
              "               0.3439  0.3406  0.3431  0.3434  0.3435  0.339   0.3402\n",
              "               0.3476]]], dtype=float32)"
            ]
          },
          "metadata": {},
          "execution_count": 17
        }
      ]
    },
    {
      "cell_type": "code",
      "metadata": {
        "id": "w8hpwr2mpvp-",
        "outputId": "f4b24d53-c334-4592-d1fb-5245ddd124ef",
        "colab": {
          "base_uri": "https://localhost:8080/"
        }
      },
      "source": [
        "arr[10,10,1:224]"
      ],
      "execution_count": null,
      "outputs": [
        {
          "output_type": "execute_result",
          "data": {
            "text/plain": [
              "ImageArray([[[ 0.     -0.0022  0.0783  0.0951  0.1007  0.1071  0.1095\n",
              "               0.1189  0.1246  0.1298  0.1313  0.1351  0.1397  0.1441\n",
              "               0.1504  0.1567  0.1637  0.1708  0.1786  0.1868  0.1938\n",
              "               0.1993  0.2049  0.2097  0.2121  0.216   0.2187  0.2197\n",
              "               0.2234  0.2273  0.2306  0.2249  0.2269  0.2297  0.2335\n",
              "               0.2353  0.2387  0.2417  0.246   0.2487  0.2484  0.2516\n",
              "               0.2537  0.2548  0.2575  0.2559  0.2575  0.2569  0.2587\n",
              "               0.2596  0.2593  0.2594  0.2596  0.2609  0.2614  0.2623\n",
              "               0.261   0.2616  0.2626  0.2651  0.2653  0.2663  0.2681\n",
              "               0.2709  0.2733  0.274   0.2756  0.2764  0.2793  0.2812\n",
              "               0.2828  0.2845  0.2857  0.2878  0.2898  0.2911  0.2929\n",
              "               0.2935  0.2967  0.2936  0.2912  0.2965  0.3004  0.3023\n",
              "               0.3038  0.3065  0.3075  0.309   0.3103  0.3112  0.3137\n",
              "               0.3171  0.3173  0.3192  0.3201  0.3197  0.3239  0.3256\n",
              "               0.3265  0.3271  0.3282  0.3265  0.3229  0.3256  0.3228\n",
              "               0.3375  0.      0.      0.      0.      0.6724 -0.005\n",
              "               0.2884  0.3006  0.2955  0.3011  0.3056  0.3082  0.3111\n",
              "               0.3199  0.3215  0.3225  0.3262  0.3269  0.3308  0.3309\n",
              "               0.3338  0.3331  0.3349  0.3368  0.3367  0.34    0.3395\n",
              "               0.3398  0.3437  0.3424  0.3425  0.3437  0.3425  0.345\n",
              "               0.3438  0.3439  0.3406  0.3431  0.3434  0.3435  0.339\n",
              "               0.3402  0.3476  0.3455  0.3448  0.5112 -0.005   0.\n",
              "               0.      0.      0.      0.      0.      0.      0.\n",
              "               0.      0.      0.      0.      0.389   0.2686  0.2813\n",
              "               0.2772  0.2903  0.2926  0.3006  0.3157  0.32    0.3139\n",
              "               0.3166  0.3161  0.3186  0.3179  0.3214  0.3165  0.3154\n",
              "               0.3174  0.3159  0.316   0.3141  0.3117  0.3076  0.3071\n",
              "               0.309   0.3012  0.2912  0.2876  0.2943  0.2976  0.2947\n",
              "               0.2986  0.2984  0.2922  0.2987  0.2957  0.2916  0.2866\n",
              "               0.2993  0.2856  0.2831  0.2814  0.2804  0.2759  0.2774\n",
              "               0.2757  0.2686  0.2607  0.254   0.249   0.2494  0.2314\n",
              "               0.2268  0.2296  0.2307  0.1806  0.1958  0.2218]]], dtype=float32)"
            ]
          },
          "metadata": {},
          "execution_count": 18
        }
      ]
    },
    {
      "cell_type": "code",
      "metadata": {
        "id": "TnRCF6LlvilE",
        "outputId": "226f655a-9b3d-42d9-8dc0-f1f53b88a816",
        "colab": {
          "base_uri": "https://localhost:8080/"
        }
      },
      "source": [
        "!pip install pysptools"
      ],
      "execution_count": null,
      "outputs": [
        {
          "output_type": "stream",
          "name": "stdout",
          "text": [
            "Collecting pysptools\n",
            "  Downloading pysptools-0.15.0.tar.gz (8.1 MB)\n",
            "\u001b[K     |████████████████████████████████| 8.1 MB 4.9 MB/s \n",
            "\u001b[?25hBuilding wheels for collected packages: pysptools\n",
            "  Building wheel for pysptools (setup.py) ... \u001b[?25l\u001b[?25hdone\n",
            "  Created wheel for pysptools: filename=pysptools-0.15.0-py3-none-any.whl size=8133751 sha256=b558e02640cc591624799d80af8836218d0f93de64e449a9d4bd9670f56331c6\n",
            "  Stored in directory: /root/.cache/pip/wheels/ee/61/31/fb8bf9e1d7508efcfce674a9dc4ac98e67cfe875a5567c4e7e\n",
            "Successfully built pysptools\n",
            "Installing collected packages: pysptools\n",
            "Successfully installed pysptools-0.15.0\n"
          ]
        }
      ]
    },
    {
      "cell_type": "code",
      "metadata": {
        "id": "-ZxK0dmz9o-b"
      },
      "source": [
        "import pysptools.eea as eea"
      ],
      "execution_count": null,
      "outputs": []
    },
    {
      "cell_type": "code",
      "metadata": {
        "id": "MqIh-jxa4LYE"
      },
      "source": [
        "b = np.reshape(arr,(314368,224))\n"
      ],
      "execution_count": null,
      "outputs": []
    },
    {
      "cell_type": "code",
      "metadata": {
        "id": "ETqxPbABiJ_m",
        "outputId": "e4a32950-81f6-4104-d4a4-68b69b46d48e",
        "colab": {
          "base_uri": "https://localhost:8080/"
        }
      },
      "source": [
        "b\n"
      ],
      "execution_count": null,
      "outputs": [
        {
          "output_type": "execute_result",
          "data": {
            "text/plain": [
              "array([[ 0.    ,  0.    ,  1.0367, ...,  0.188 ,  0.2414,  0.2516],\n",
              "       [ 0.    ,  0.    ,  1.0367, ...,  0.1335,  0.1662,  0.1324],\n",
              "       [ 0.    ,  0.    ,  1.0369, ...,  0.1854,  0.1793,  0.1632],\n",
              "       ...,\n",
              "       [ 0.    ,  0.    , -0.005 , ...,  0.1052,  0.1165,  0.1056],\n",
              "       [ 0.    ,  0.    , -0.005 , ...,  0.1561,  0.153 ,  0.1569],\n",
              "       [ 0.    ,  0.    , -0.005 , ...,  0.1318,  0.1281,  0.1049]],\n",
              "      dtype=float32)"
            ]
          },
          "metadata": {},
          "execution_count": 22
        }
      ]
    },
    {
      "cell_type": "code",
      "metadata": {
        "id": "NGii6G5GloQf",
        "outputId": "1f064919-9282-4ef9-98ec-c96172147c24",
        "colab": {
          "base_uri": "https://localhost:8080/"
        }
      },
      "source": [
        "b.ndim"
      ],
      "execution_count": null,
      "outputs": [
        {
          "output_type": "execute_result",
          "data": {
            "text/plain": [
              "2"
            ]
          },
          "metadata": {},
          "execution_count": 23
        }
      ]
    },
    {
      "cell_type": "code",
      "metadata": {
        "id": "ARyioRTolv28",
        "outputId": "f9592736-4b04-4b2f-a8be-7680249f1df2",
        "colab": {
          "base_uri": "https://localhost:8080/"
        }
      },
      "source": [
        "b.size"
      ],
      "execution_count": null,
      "outputs": [
        {
          "output_type": "execute_result",
          "data": {
            "text/plain": [
              "70418432"
            ]
          },
          "metadata": {},
          "execution_count": 24
        }
      ]
    },
    {
      "cell_type": "code",
      "metadata": {
        "id": "Ze4TOvKCl0Sl",
        "outputId": "990d7368-ac74-4cb4-8e2b-233304f71f99",
        "colab": {
          "base_uri": "https://localhost:8080/"
        }
      },
      "source": [
        "b.shape"
      ],
      "execution_count": null,
      "outputs": [
        {
          "output_type": "execute_result",
          "data": {
            "text/plain": [
              "(314368, 224)"
            ]
          },
          "metadata": {},
          "execution_count": 25
        }
      ]
    },
    {
      "cell_type": "code",
      "metadata": {
        "id": "ZoXDaldQm_-x"
      },
      "source": [
        "purepixels = eea.eea.PPI(b,10,10)"
      ],
      "execution_count": null,
      "outputs": []
    },
    {
      "cell_type": "code",
      "metadata": {
        "id": "13SgE8bQnn82",
        "outputId": "f6c12323-2683-4cb6-d7f7-8e7fe53a8695",
        "colab": {
          "base_uri": "https://localhost:8080/"
        }
      },
      "source": [
        "print(type(purepixels))\n",
        "print(type(arr))"
      ],
      "execution_count": null,
      "outputs": [
        {
          "output_type": "stream",
          "name": "stdout",
          "text": [
            "<class 'tuple'>\n",
            "<class 'spectral.image.ImageArray'>\n"
          ]
        }
      ]
    },
    {
      "cell_type": "code",
      "metadata": {
        "id": "mIdQ_A4G-CNa"
      },
      "source": [
        "[purepixels,b]=eea.eea.PPI(b,10,10)"
      ],
      "execution_count": null,
      "outputs": []
    },
    {
      "cell_type": "code",
      "metadata": {
        "id": "Z2Cc9ItC-L0N",
        "outputId": "02f79a34-1b4f-4f6a-eac1-dede393d3c23",
        "colab": {
          "base_uri": "https://localhost:8080/"
        }
      },
      "source": [
        "b\n"
      ],
      "execution_count": null,
      "outputs": [
        {
          "output_type": "execute_result",
          "data": {
            "text/plain": [
              "array([304819, 314367, 104791, 104784, 104785, 104786, 104787, 104788,\n",
              "       104789, 104790])"
            ]
          },
          "metadata": {},
          "execution_count": 29
        }
      ]
    },
    {
      "cell_type": "code",
      "metadata": {
        "id": "TDGwrSjj-OvF",
        "outputId": "3ccad146-8bb9-4c75-9792-b25fc123974e",
        "colab": {
          "base_uri": "https://localhost:8080/"
        }
      },
      "source": [
        "purepixels.shape"
      ],
      "execution_count": null,
      "outputs": [
        {
          "output_type": "execute_result",
          "data": {
            "text/plain": [
              "(10, 224)"
            ]
          },
          "metadata": {},
          "execution_count": 30
        }
      ]
    },
    {
      "cell_type": "code",
      "metadata": {
        "id": "6d1Kb6_c_pZk"
      },
      "source": [
        "import h5py, os, copy\n",
        "import matplotlib.pyplot as plt\n",
        "import numpy as np\n",
        "import pysptools.util as util\n",
        "import pysptools.eea as eea #endmembers extraction algorithms\n",
        "import pysptools.abundance_maps as amap\n",
        "import pysptools.classification as cls\n",
        "import pysptools.material_count as cnt\n",
        "%matplotlib inline\n",
        "\n",
        "#for clean output, to not print warnings, don't use when developing script\n",
        "import warnings\n",
        "warnings.filterwarnings('ignore')\n",
        "\n",
        "from sklearn.cluster import KMeans\n",
        "\n",
        "import os\n",
        "import PIL\n",
        "import pandas as pd\n",
        "import csv\n",
        "import numpy as np\n",
        "import matplotlib.pyplot as plt\n",
        "%matplotlib inline\n",
        "from sklearn.decomposition import PCA\n",
        "import seaborn as sns; sns.set()\n",
        "from sklearn.preprocessing import StandardScaler\n",
        "from sklearn.preprocessing import MinMaxScaler\n",
        "\n",
        "import numpy as np\n",
        "import matplotlib as mp\n",
        "import spectral.io.envi as envi\n",
        "import spectral.io.aviris as aviris"
      ],
      "execution_count": null,
      "outputs": []
    },
    {
      "cell_type": "code",
      "metadata": {
        "id": "DTvHjxsy6Kav",
        "colab": {
          "base_uri": "https://localhost:8080/"
        },
        "outputId": "d403b20e-d59c-4831-c363-dc4b406cdbba"
      },
      "source": [
        "\n",
        "\n",
        "#folder_path = \"drive/MyDrive/image_test\"\n",
        "folder_path = \"/content/drive/MyDrive/Projects/RFL\"\n",
        "images_path = os.listdir(folder_path)\n",
        "aa=[]\n",
        "aaa=[]\n",
        "aaaa=[]\n",
        "for n, image in enumerate(images_path):\n",
        "  #ds = dicom.dcmread(os.path.join(folder_path, image))\n",
        "  print(image)\n",
        "  #print((os.path.join(folder_path, image))\n",
        "  img = aviris.open((os.path.join(folder_path, image)),'/content/drive/MyDrive/Projects/HSI Dataset/f970619t01p02_r02.a.spc')\n",
        "  arr = img.load()\n",
        "  arr.__class__\n",
        "  print(arr.info())\n",
        "  arr.shape\n",
        "  #np.set_printoptions(threshold=5, linewidth=120)\n",
        "  np.set_printoptions(threshold=np.inf, linewidth=140)\n",
        "  #aaa=arr\n",
        "  #aa=np.reshape(arr,(314368,224))\n",
        "  aa.append(arr.flatten()[0:10000])\n",
        "  #purepixels = eea.eea.PPI((arr.flatten()),10,10)\n",
        "  #aa = purepixels\n",
        "  #aaa.append(ds.pixel_array)#this is for cnn\n",
        "  #np.savez_compressed('/content/drive/MyDrive/Projects/Pixel Array Compressed/data'+str(n)+'.npz', aaa)\n",
        "  #data = data - np.min(data)\n",
        "  #data = data / np.max(data)\n",
        "  #data = (data * 255).astype(np.uint8)\n",
        "\n",
        "\n",
        "#numpy_aaa=np.array(aaa)#used later for cnn\n",
        "print(len(aa))\n",
        "print(len(aa[0]))\n",
        "print(len(aa[1]))\n",
        "print(len(aa[2]))\n",
        "print(len(aa[3]))\n",
        "#print(len(aa[4]))\n"
      ],
      "execution_count": null,
      "outputs": [
        {
          "output_type": "stream",
          "name": "stdout",
          "text": [
            "f970619t01p02_r02_sc01.a.rfl\n",
            "\t# Rows:            512\n",
            "\t# Samples:         614\n",
            "\t# Bands:           224\n",
            "\tData format:   float32\n",
            "f970619t01p02_r02_sc02.a.rfl\n",
            "\t# Rows:            512\n",
            "\t# Samples:         614\n",
            "\t# Bands:           224\n",
            "\tData format:   float32\n",
            "f970619t01p02_r02_sc03.a.rfl\n",
            "\t# Rows:            512\n",
            "\t# Samples:         614\n",
            "\t# Bands:           224\n",
            "\tData format:   float32\n",
            "f970619t01p02_r02_sc04.a.rfl\n",
            "\t# Rows:            512\n",
            "\t# Samples:         614\n",
            "\t# Bands:           224\n",
            "\tData format:   float32\n",
            "4\n",
            "10000\n",
            "10000\n",
            "10000\n",
            "10000\n"
          ]
        }
      ]
    },
    {
      "cell_type": "code",
      "source": [
        "print(type(aa))"
      ],
      "metadata": {
        "colab": {
          "base_uri": "https://localhost:8080/"
        },
        "id": "50quNev30mAM",
        "outputId": "281aed5d-a5bd-4f5f-c9ca-7863dd07e9fe"
      },
      "execution_count": null,
      "outputs": [
        {
          "output_type": "stream",
          "name": "stdout",
          "text": [
            "<class 'list'>\n"
          ]
        }
      ]
    },
    {
      "cell_type": "code",
      "source": [
        "pca = PCA().fit(aa)\n",
        "plt.plot(np.cumsum(pca.explained_variance_ratio_))\n",
        "#plt.header\n",
        "plt.xlabel('Number of components')\n",
        "plt.ylabel('Cumulative explained variance(%)')\n",
        "plt.show()\n",
        "\n",
        "#aa = StandardScaler().fit_transform(aa)\n",
        "scaler = MinMaxScaler()\n",
        "data_rescaled = scaler.fit_transform(aa)\n",
        "pca = PCA(n_components =10)\n",
        "pca.fit(data_rescaled)\n",
        "reduced = pca.transform(data_rescaled)\n",
        "df = pd.DataFrame(reduced)\n",
        "print(\"\\n\",df)\n",
        "print(\"\\nShape of PCA Matrix \", df.shape)"
      ],
      "metadata": {
        "colab": {
          "base_uri": "https://localhost:8080/",
          "height": 648
        },
        "id": "UtahJZwCokzm",
        "outputId": "fdfb644b-b1c0-4ed0-aab9-b523544e4920"
      },
      "execution_count": null,
      "outputs": [
        {
          "output_type": "display_data",
          "data": {
            "text/plain": [
              "<Figure size 432x288 with 1 Axes>"
            ],
            "image/png": "[encoded data removed]"
          },
          "metadata": {}
        },
        {
          "output_type": "error",
          "ename": "ValueError",
          "evalue": "ignored",
          "traceback": [
            "\u001b[0;31m---------------------------------------------------------------------------\u001b[0m",
            "\u001b[0;31mValueError\u001b[0m                                Traceback (most recent call last)",
            "\u001b[0;32m<ipython-input-24-ab21fc18a2a2>\u001b[0m in \u001b[0;36m<module>\u001b[0;34m()\u001b[0m\n\u001b[1;32m     10\u001b[0m \u001b[0mdata_rescaled\u001b[0m \u001b[0;34m=\u001b[0m \u001b[0mscaler\u001b[0m\u001b[0;34m.\u001b[0m\u001b[0mfit_transform\u001b[0m\u001b[0;34m(\u001b[0m\u001b[0maa\u001b[0m\u001b[0;34m)\u001b[0m\u001b[0;34m\u001b[0m\u001b[0;34m\u001b[0m\u001b[0m\n\u001b[1;32m     11\u001b[0m \u001b[0mpca\u001b[0m \u001b[0;34m=\u001b[0m \u001b[0mPCA\u001b[0m\u001b[0;34m(\u001b[0m\u001b[0mn_components\u001b[0m \u001b[0;34m=\u001b[0m\u001b[0;36m10\u001b[0m\u001b[0;34m)\u001b[0m\u001b[0;34m\u001b[0m\u001b[0;34m\u001b[0m\u001b[0m\n\u001b[0;32m---> 12\u001b[0;31m \u001b[0mpca\u001b[0m\u001b[0;34m.\u001b[0m\u001b[0mfit\u001b[0m\u001b[0;34m(\u001b[0m\u001b[0mdata_rescaled\u001b[0m\u001b[0;34m)\u001b[0m\u001b[0;34m\u001b[0m\u001b[0;34m\u001b[0m\u001b[0m\n\u001b[0m\u001b[1;32m     13\u001b[0m \u001b[0mreduced\u001b[0m \u001b[0;34m=\u001b[0m \u001b[0mpca\u001b[0m\u001b[0;34m.\u001b[0m\u001b[0mtransform\u001b[0m\u001b[0;34m(\u001b[0m\u001b[0mdata_rescaled\u001b[0m\u001b[0;34m)\u001b[0m\u001b[0;34m\u001b[0m\u001b[0;34m\u001b[0m\u001b[0m\n\u001b[1;32m     14\u001b[0m \u001b[0mdf\u001b[0m \u001b[0;34m=\u001b[0m \u001b[0mpd\u001b[0m\u001b[0;34m.\u001b[0m\u001b[0mDataFrame\u001b[0m\u001b[0;34m(\u001b[0m\u001b[0mreduced\u001b[0m\u001b[0;34m)\u001b[0m\u001b[0;34m\u001b[0m\u001b[0;34m\u001b[0m\u001b[0m\n",
            "\u001b[0;32m/usr/local/lib/python3.7/dist-packages/sklearn/decomposition/_pca.py\u001b[0m in \u001b[0;36mfit\u001b[0;34m(self, X, y)\u001b[0m\n\u001b[1;32m    380\u001b[0m             \u001b[0mReturns\u001b[0m \u001b[0mthe\u001b[0m \u001b[0minstance\u001b[0m \u001b[0mitself\u001b[0m\u001b[0;34m.\u001b[0m\u001b[0;34m\u001b[0m\u001b[0;34m\u001b[0m\u001b[0m\n\u001b[1;32m    381\u001b[0m         \"\"\"\n\u001b[0;32m--> 382\u001b[0;31m         \u001b[0mself\u001b[0m\u001b[0;34m.\u001b[0m\u001b[0m_fit\u001b[0m\u001b[0;34m(\u001b[0m\u001b[0mX\u001b[0m\u001b[0;34m)\u001b[0m\u001b[0;34m\u001b[0m\u001b[0;34m\u001b[0m\u001b[0m\n\u001b[0m\u001b[1;32m    383\u001b[0m         \u001b[0;32mreturn\u001b[0m \u001b[0mself\u001b[0m\u001b[0;34m\u001b[0m\u001b[0;34m\u001b[0m\u001b[0m\n\u001b[1;32m    384\u001b[0m \u001b[0;34m\u001b[0m\u001b[0m\n",
            "\u001b[0;32m/usr/local/lib/python3.7/dist-packages/sklearn/decomposition/_pca.py\u001b[0m in \u001b[0;36m_fit\u001b[0;34m(self, X)\u001b[0m\n\u001b[1;32m    455\u001b[0m         \u001b[0;31m# Call different fits for either full or truncated SVD\u001b[0m\u001b[0;34m\u001b[0m\u001b[0;34m\u001b[0m\u001b[0;34m\u001b[0m\u001b[0m\n\u001b[1;32m    456\u001b[0m         \u001b[0;32mif\u001b[0m \u001b[0mself\u001b[0m\u001b[0;34m.\u001b[0m\u001b[0m_fit_svd_solver\u001b[0m \u001b[0;34m==\u001b[0m \u001b[0;34m\"full\"\u001b[0m\u001b[0;34m:\u001b[0m\u001b[0;34m\u001b[0m\u001b[0;34m\u001b[0m\u001b[0m\n\u001b[0;32m--> 457\u001b[0;31m             \u001b[0;32mreturn\u001b[0m \u001b[0mself\u001b[0m\u001b[0;34m.\u001b[0m\u001b[0m_fit_full\u001b[0m\u001b[0;34m(\u001b[0m\u001b[0mX\u001b[0m\u001b[0;34m,\u001b[0m \u001b[0mn_components\u001b[0m\u001b[0;34m)\u001b[0m\u001b[0;34m\u001b[0m\u001b[0;34m\u001b[0m\u001b[0m\n\u001b[0m\u001b[1;32m    458\u001b[0m         \u001b[0;32melif\u001b[0m \u001b[0mself\u001b[0m\u001b[0;34m.\u001b[0m\u001b[0m_fit_svd_solver\u001b[0m \u001b[0;32min\u001b[0m \u001b[0;34m[\u001b[0m\u001b[0;34m\"arpack\"\u001b[0m\u001b[0;34m,\u001b[0m \u001b[0;34m\"randomized\"\u001b[0m\u001b[0;34m]\u001b[0m\u001b[0;34m:\u001b[0m\u001b[0;34m\u001b[0m\u001b[0;34m\u001b[0m\u001b[0m\n\u001b[1;32m    459\u001b[0m             \u001b[0;32mreturn\u001b[0m \u001b[0mself\u001b[0m\u001b[0;34m.\u001b[0m\u001b[0m_fit_truncated\u001b[0m\u001b[0;34m(\u001b[0m\u001b[0mX\u001b[0m\u001b[0;34m,\u001b[0m \u001b[0mn_components\u001b[0m\u001b[0;34m,\u001b[0m \u001b[0mself\u001b[0m\u001b[0;34m.\u001b[0m\u001b[0m_fit_svd_solver\u001b[0m\u001b[0;34m)\u001b[0m\u001b[0;34m\u001b[0m\u001b[0;34m\u001b[0m\u001b[0m\n",
            "\u001b[0;32m/usr/local/lib/python3.7/dist-packages/sklearn/decomposition/_pca.py\u001b[0m in \u001b[0;36m_fit_full\u001b[0;34m(self, X, n_components)\u001b[0m\n\u001b[1;32m    476\u001b[0m                 \u001b[0;34m\"n_components=%r must be between 0 and \"\u001b[0m\u001b[0;34m\u001b[0m\u001b[0;34m\u001b[0m\u001b[0m\n\u001b[1;32m    477\u001b[0m                 \u001b[0;34m\"min(n_samples, n_features)=%r with \"\u001b[0m\u001b[0;34m\u001b[0m\u001b[0;34m\u001b[0m\u001b[0m\n\u001b[0;32m--> 478\u001b[0;31m                 \u001b[0;34m\"svd_solver='full'\"\u001b[0m \u001b[0;34m%\u001b[0m \u001b[0;34m(\u001b[0m\u001b[0mn_components\u001b[0m\u001b[0;34m,\u001b[0m \u001b[0mmin\u001b[0m\u001b[0;34m(\u001b[0m\u001b[0mn_samples\u001b[0m\u001b[0;34m,\u001b[0m \u001b[0mn_features\u001b[0m\u001b[0;34m)\u001b[0m\u001b[0;34m)\u001b[0m\u001b[0;34m\u001b[0m\u001b[0;34m\u001b[0m\u001b[0m\n\u001b[0m\u001b[1;32m    479\u001b[0m             )\n\u001b[1;32m    480\u001b[0m         \u001b[0;32melif\u001b[0m \u001b[0mn_components\u001b[0m \u001b[0;34m>=\u001b[0m \u001b[0;36m1\u001b[0m\u001b[0;34m:\u001b[0m\u001b[0;34m\u001b[0m\u001b[0;34m\u001b[0m\u001b[0m\n",
            "\u001b[0;31mValueError\u001b[0m: n_components=10 must be between 0 and min(n_samples, n_features)=4 with svd_solver='full'"
          ]
        }
      ]
    }
  ]
}